{
 "cells": [
  {
   "cell_type": "markdown",
   "metadata": {},
   "source": [
    "# Climate Analysis and Exploration"
   ]
  },
  {
   "cell_type": "markdown",
   "metadata": {},
   "source": [
    "## Set Up"
   ]
  },
  {
   "cell_type": "code",
   "execution_count": 1,
   "metadata": {
    "collapsed": true
   },
   "outputs": [],
   "source": [
    "# Import Dependencies\n",
    "import pandas as pd\n",
    "import numpy as np\n",
    "import sqlalchemy\n",
    "from sqlalchemy.ext.automap import automap_base\n",
    "from sqlalchemy.orm import Session\n",
    "from sqlalchemy import create_engine, inspect, func\n",
    "\n",
    "import matplotlib.pyplot as plt\n",
    "import seaborn as sns\n",
    "sns.set()\n",
    "\n",
    "import datetime as dt"
   ]
  },
  {
   "cell_type": "code",
   "execution_count": 2,
   "metadata": {},
   "outputs": [
    {
     "data": {
      "text/plain": [
       "['measurement', 'station']"
      ]
     },
     "execution_count": 2,
     "metadata": {},
     "output_type": "execute_result"
    }
   ],
   "source": [
    "# Create the connection engine\n",
    "engine = create_engine(\"sqlite:///hawaii.sqlite\")\n",
    "conn = engine.connect()\n",
    "\n",
    "# Inspect the database for its tables\n",
    "inspector = inspect(engine)\n",
    "inspector.get_table_names()"
   ]
  },
  {
   "cell_type": "code",
   "execution_count": 3,
   "metadata": {},
   "outputs": [
    {
     "name": "stdout",
     "output_type": "stream",
     "text": [
      "Start: 2018-04-24\n",
      "End: 2018-05-01\n"
     ]
    }
   ],
   "source": [
    "# Choose a start date and end date for your trip. Make sure that your vacation range is approximately 3-15 days total.\n",
    "start = dt.date(2018, 4, 24)\n",
    "end = dt.date(2018, 5, 1)\n",
    "print(f\"Start: {start}\")\n",
    "print(f\"End: {end}\")"
   ]
  },
  {
   "cell_type": "code",
   "execution_count": 4,
   "metadata": {},
   "outputs": [
    {
     "data": {
      "text/plain": [
       "[(18103)]"
      ]
     },
     "execution_count": 4,
     "metadata": {},
     "output_type": "execute_result"
    }
   ],
   "source": [
    "# Use SQLAlchemy `automap_base()` to reflect your tables into classes\n",
    "Base = automap_base()\n",
    "Base.prepare(engine, reflect=True)\n",
    "\n",
    "# Save a reference to those classes called `Station` and `Measurement`\n",
    "Measurement = Base.classes.measurement\n",
    "Station = Base.classes.station\n",
    "\n",
    "# Create a session for the engine to manipulate data\n",
    "session = Session(engine)\n",
    "\n",
    "# Test out the session by counting the number of rows\n",
    "session.query(func.count(Measurement.station)).all()"
   ]
  },
  {
   "cell_type": "markdown",
   "metadata": {},
   "source": [
    "## Precipitation Analysis"
   ]
  },
  {
   "cell_type": "code",
   "execution_count": 5,
   "metadata": {},
   "outputs": [
    {
     "data": {
      "text/html": [
       "<div>\n",
       "<style>\n",
       "    .dataframe thead tr:only-child th {\n",
       "        text-align: right;\n",
       "    }\n",
       "\n",
       "    .dataframe thead th {\n",
       "        text-align: left;\n",
       "    }\n",
       "\n",
       "    .dataframe tbody tr th {\n",
       "        vertical-align: top;\n",
       "    }\n",
       "</style>\n",
       "<table border=\"1\" class=\"dataframe\">\n",
       "  <thead>\n",
       "    <tr style=\"text-align: right;\">\n",
       "      <th></th>\n",
       "      <th>prcp</th>\n",
       "    </tr>\n",
       "    <tr>\n",
       "      <th>date</th>\n",
       "      <th></th>\n",
       "    </tr>\n",
       "  </thead>\n",
       "  <tbody>\n",
       "    <tr>\n",
       "      <th>2016-08-23</th>\n",
       "      <td>0.00</td>\n",
       "    </tr>\n",
       "    <tr>\n",
       "      <th>2016-08-23</th>\n",
       "      <td>0.15</td>\n",
       "    </tr>\n",
       "    <tr>\n",
       "      <th>2016-08-23</th>\n",
       "      <td>0.05</td>\n",
       "    </tr>\n",
       "    <tr>\n",
       "      <th>2016-08-23</th>\n",
       "      <td>0.02</td>\n",
       "    </tr>\n",
       "    <tr>\n",
       "      <th>2016-08-23</th>\n",
       "      <td>1.79</td>\n",
       "    </tr>\n",
       "  </tbody>\n",
       "</table>\n",
       "</div>"
      ],
      "text/plain": [
       "            prcp\n",
       "date            \n",
       "2016-08-23  0.00\n",
       "2016-08-23  0.15\n",
       "2016-08-23  0.05\n",
       "2016-08-23  0.02\n",
       "2016-08-23  1.79"
      ]
     },
     "execution_count": 5,
     "metadata": {},
     "output_type": "execute_result"
    }
   ],
   "source": [
    "# Find most recent date of records\n",
    "date_query = session.query(Measurement.date).order_by(Measurement.date.desc()).first()\n",
    "date_query_results = list(np.ravel(date_query))\n",
    "date_split = date_query_results[0].split('-')\n",
    "current_year = dt.date(int(date_split[0]), int(date_split[1]), int(date_split[2]))\n",
    "\n",
    "# Design a query to retrieve the last 12 months of precipitation data.\n",
    "last_year = current_year - dt.timedelta(days=365)\n",
    "prcp_query = session.query(Measurement.date, Measurement.prcp).\\\n",
    "            filter(Measurement.date >= last_year).\\\n",
    "            order_by(Measurement.date)\n",
    "\n",
    "# Load the query results into a Pandas DataFrame and set the index to the date column.\n",
    "percipitation_df = pd.read_sql_query(prcp_query.statement, engine)\n",
    "percipitation_df = percipitation_df.set_index('date')\n",
    "percipitation_df.head()"
   ]
  },
  {
   "cell_type": "code",
   "execution_count": 6,
   "metadata": {},
   "outputs": [
    {
     "data": {
      "image/png": "[encoded data removed]",
      "text/plain": [
       "<matplotlib.figure.Figure at 0x10f8eee48>"
      ]
     },
     "metadata": {},
     "output_type": "display_data"
    }
   ],
   "source": [
    "# Plot the results using the DataFrame `plot` method\n",
    "x_axis = len(percipitation_df[\"prcp\"])\n",
    "plt.plot(np.arange(x_axis),percipitation_df[\"prcp\"], marker=\"o\", \n",
    "                 color='steelblue', markersize=5, linewidth=1, alpha=0.65)\n",
    "plt.title(f\"Percipitation Analysis of Hawaii (2016-2017)\", fontdict={'fontsize':12})\n",
    "plt.xlabel(\"Date\")\n",
    "plt.ylabel(\"Percipitation\")\n",
    "plt.ylim(-0.30,7)\n",
    "plt.xlim(0, 2015)\n",
    "plt.xticks(np.arange(0,2015, (2015/12)),('Sep-16', 'Oct-16', 'Nov-16', 'Dec-16', 'Jan-17', 'Feb-17', \\\n",
    "                                         'Mar-17', 'Apr-17', 'May-17', 'Jun-17', 'Jul-17', 'Aug-17'), rotation=45)\n",
    "\n",
    "plt.show()"
   ]
  },
  {
   "cell_type": "code",
   "execution_count": 7,
   "metadata": {},
   "outputs": [
    {
     "data": {
      "text/html": [
       "<div>\n",
       "<style>\n",
       "    .dataframe thead tr:only-child th {\n",
       "        text-align: right;\n",
       "    }\n",
       "\n",
       "    .dataframe thead th {\n",
       "        text-align: left;\n",
       "    }\n",
       "\n",
       "    .dataframe tbody tr th {\n",
       "        vertical-align: top;\n",
       "    }\n",
       "</style>\n",
       "<table border=\"1\" class=\"dataframe\">\n",
       "  <thead>\n",
       "    <tr style=\"text-align: right;\">\n",
       "      <th></th>\n",
       "      <th>prcp</th>\n",
       "    </tr>\n",
       "  </thead>\n",
       "  <tbody>\n",
       "    <tr>\n",
       "      <th>count</th>\n",
       "      <td>2021.000000</td>\n",
       "    </tr>\n",
       "    <tr>\n",
       "      <th>mean</th>\n",
       "      <td>0.177279</td>\n",
       "    </tr>\n",
       "    <tr>\n",
       "      <th>std</th>\n",
       "      <td>0.461190</td>\n",
       "    </tr>\n",
       "    <tr>\n",
       "      <th>min</th>\n",
       "      <td>0.000000</td>\n",
       "    </tr>\n",
       "    <tr>\n",
       "      <th>25%</th>\n",
       "      <td>0.000000</td>\n",
       "    </tr>\n",
       "    <tr>\n",
       "      <th>50%</th>\n",
       "      <td>0.020000</td>\n",
       "    </tr>\n",
       "    <tr>\n",
       "      <th>75%</th>\n",
       "      <td>0.130000</td>\n",
       "    </tr>\n",
       "    <tr>\n",
       "      <th>max</th>\n",
       "      <td>6.700000</td>\n",
       "    </tr>\n",
       "  </tbody>\n",
       "</table>\n",
       "</div>"
      ],
      "text/plain": [
       "              prcp\n",
       "count  2021.000000\n",
       "mean      0.177279\n",
       "std       0.461190\n",
       "min       0.000000\n",
       "25%       0.000000\n",
       "50%       0.020000\n",
       "75%       0.130000\n",
       "max       6.700000"
      ]
     },
     "execution_count": 7,
     "metadata": {},
     "output_type": "execute_result"
    }
   ],
   "source": [
    "# Use Pandas to print the summary statistics for the precipitation data\n",
    "percipitation_df.describe()"
   ]
  },
  {
   "cell_type": "markdown",
   "metadata": {},
   "source": [
    "## Station Analysis"
   ]
  },
  {
   "cell_type": "code",
   "execution_count": 8,
   "metadata": {},
   "outputs": [
    {
     "data": {
      "text/plain": [
       "9"
      ]
     },
     "execution_count": 8,
     "metadata": {},
     "output_type": "execute_result"
    }
   ],
   "source": [
    "# Design a query to calculate the total number of stations.\n",
    "total_stations = session.query(Measurement.station).group_by(Measurement.station).count()\n",
    "total_stations\n",
    "\n",
    "# or session.query(func.count(Station.station)).all()"
   ]
  },
  {
   "cell_type": "code",
   "execution_count": 9,
   "metadata": {},
   "outputs": [
    {
     "name": "stdout",
     "output_type": "stream",
     "text": [
      "Most Active Stations\n",
      "----------------------------------------------------\n",
      "Station: USC00519281\n",
      "Station Name: WAIHEE 837.5, HI US\n",
      "Observation Count: 2772\n",
      "----------------------------------------------------\n",
      "Station: USC00513117\n",
      "Station Name: KANEOHE 838.1, HI US\n",
      "Observation Count: 2696\n",
      "----------------------------------------------------\n",
      "Station: USC00519397\n",
      "Station Name: WAIKIKI 717.2, HI US\n",
      "Observation Count: 2685\n",
      "----------------------------------------------------\n",
      "Station: USC00519523\n",
      "Station Name: WAIMANALO EXPERIMENTAL FARM, HI US\n",
      "Observation Count: 2572\n",
      "----------------------------------------------------\n",
      "Station: USC00516128\n",
      "Station Name: MANOA LYON ARBO 785.2, HI US\n",
      "Observation Count: 2484\n",
      "----------------------------------------------------\n",
      "Station: USC00514830\n",
      "Station Name: KUALOA RANCH HEADQUARTERS 886.9, HI US\n",
      "Observation Count: 1937\n",
      "----------------------------------------------------\n",
      "Station: USC00511918\n",
      "Station Name: HONOLULU OBSERVATORY 702.2, HI US\n",
      "Observation Count: 1932\n",
      "----------------------------------------------------\n",
      "Station: USC00517948\n",
      "Station Name: PEARL CITY, HI US\n",
      "Observation Count: 683\n",
      "----------------------------------------------------\n",
      "Station: USC00518838\n",
      "Station Name: UPPER WAHIAWA 874.3, HI US\n",
      "Observation Count: 342\n"
     ]
    }
   ],
   "source": [
    "# Design a query to find the most active stations.\n",
    "# List the stations and observation counts in descending order\n",
    "active_query = session.query(Measurement.station, Station.name, func.count(Measurement.tobs)).\\\n",
    "                    group_by(Measurement.station).\\\n",
    "                    filter(Measurement.station == Station.station).\\\n",
    "                    order_by(func.count(Measurement.tobs).desc())\n",
    "print(\"Most Active Stations\")            \n",
    "for activity in active_query:\n",
    "    (_station, _name, _count) = activity\n",
    "    print('-'*52)\n",
    "    print(f\"Station: {_station}\")\n",
    "    print(f\"Station Name: {_name}\")\n",
    "    print(f\"Observation Count: {_count}\")"
   ]
  },
  {
   "cell_type": "code",
   "execution_count": 10,
   "metadata": {},
   "outputs": [
    {
     "name": "stdout",
     "output_type": "stream",
     "text": [
      "The most active station is: WAIHEE 837.5, HI US\n"
     ]
    }
   ],
   "source": [
    "# Which station has the highest number of observations?\n",
    "most_active_station = session.query(Station.name).\\\n",
    "                    group_by(Measurement.station).\\\n",
    "                    filter(Measurement.station == Station.station).\\\n",
    "                    order_by(func.count(Measurement.tobs).desc()).first()\n",
    "for x in most_active_station:\n",
    "    Station_name=x\n",
    "    print(f\"The most active station is: {Station_name}\")"
   ]
  },
  {
   "cell_type": "code",
   "execution_count": 11,
   "metadata": {},
   "outputs": [
    {
     "data": {
      "text/html": [
       "<div>\n",
       "<style>\n",
       "    .dataframe thead tr:only-child th {\n",
       "        text-align: right;\n",
       "    }\n",
       "\n",
       "    .dataframe thead th {\n",
       "        text-align: left;\n",
       "    }\n",
       "\n",
       "    .dataframe tbody tr th {\n",
       "        vertical-align: top;\n",
       "    }\n",
       "</style>\n",
       "<table border=\"1\" class=\"dataframe\">\n",
       "  <thead>\n",
       "    <tr style=\"text-align: right;\">\n",
       "      <th></th>\n",
       "      <th>date</th>\n",
       "      <th>tobs</th>\n",
       "    </tr>\n",
       "  </thead>\n",
       "  <tbody>\n",
       "    <tr>\n",
       "      <th>0</th>\n",
       "      <td>2016-08-23</td>\n",
       "      <td>77</td>\n",
       "    </tr>\n",
       "    <tr>\n",
       "      <th>1</th>\n",
       "      <td>2016-08-24</td>\n",
       "      <td>77</td>\n",
       "    </tr>\n",
       "    <tr>\n",
       "      <th>2</th>\n",
       "      <td>2016-08-25</td>\n",
       "      <td>80</td>\n",
       "    </tr>\n",
       "    <tr>\n",
       "      <th>3</th>\n",
       "      <td>2016-08-26</td>\n",
       "      <td>80</td>\n",
       "    </tr>\n",
       "    <tr>\n",
       "      <th>4</th>\n",
       "      <td>2016-08-27</td>\n",
       "      <td>75</td>\n",
       "    </tr>\n",
       "  </tbody>\n",
       "</table>\n",
       "</div>"
      ],
      "text/plain": [
       "         date  tobs\n",
       "0  2016-08-23    77\n",
       "1  2016-08-24    77\n",
       "2  2016-08-25    80\n",
       "3  2016-08-26    80\n",
       "4  2016-08-27    75"
      ]
     },
     "execution_count": 11,
     "metadata": {},
     "output_type": "execute_result"
    }
   ],
   "source": [
    "# Design a query to retrieve the last 12 months of temperature observation data (tobs).\n",
    "# Filter by the station with the highest number of observations.\n",
    "tobs_query = session.query(Measurement.date, Measurement.tobs).\\\n",
    "                    filter(Measurement.station == 'USC00519281').\\\n",
    "                    filter(Measurement.date >= last_year).\\\n",
    "                    order_by(Measurement.date)\n",
    "            \n",
    "# Load the query results into a Pandas DataFrame and set the index to the date column.\n",
    "temperature_df = pd.read_sql_query(tobs_query.statement, engine)\n",
    "temperature_df.head()"
   ]
  },
  {
   "cell_type": "code",
   "execution_count": 12,
   "metadata": {},
   "outputs": [
    {
     "data": {
      "image/png": "[encoded data removed]",
      "text/plain": [
       "<matplotlib.figure.Figure at 0x10f8b7828>"
      ]
     },
     "metadata": {},
     "output_type": "display_data"
    }
   ],
   "source": [
    "# Plot the results as a histogram with `bins=12`\n",
    "plt.hist(temperature_df['tobs'], normed=True, bins=12, alpha=0.95, label='tobs')\n",
    "\n",
    "# Set title\n",
    "plt.title('Temperature Observations Analysis of Most Active Station: Waihee 837.5, HI, US')\n",
    "\n",
    "# Customize legend\n",
    "legend1 = plt.legend(frameon = 1)\n",
    "frame1 = legend1.get_frame()\n",
    "frame1.set_color('white')\n",
    "\n",
    "# Set axes labels\n",
    "plt.xlabel('Temperature')\n",
    "plt.ylabel('Frequency')\n",
    "\n",
    "# Show plot\n",
    "plt.show()"
   ]
  },
  {
   "cell_type": "markdown",
   "metadata": {},
   "source": [
    "## Temperature Analysis"
   ]
  },
  {
   "cell_type": "code",
   "execution_count": 13,
   "metadata": {
    "collapsed": true
   },
   "outputs": [],
   "source": [
    "# Write a function called `calc_temps` that will accept a start date and end date in the format `%Y-%m-%d` \n",
    "# and return the minimum, average, and maximum temperatures for that range of dates.\n",
    "def calc_temps(start_date, end_date):\n",
    "    calculations = [func.min(Measurement.tobs),\n",
    "                    func.avg(Measurement.tobs),\n",
    "                    func.max(Measurement.tobs)]\n",
    "    query = session.query(*calculations).\\\n",
    "                filter(func.strftime(\"%Y-%m-%d\", Measurement.date) >= start_date).\\\n",
    "                filter(func.strftime(\"%Y-%m-%d\", Measurement.date) <= end_date).all()\n",
    "    results = list(np.ravel(query))\n",
    "    return(results)\n",
    "    \n",
    "# Use the `calc_temps` function to calculate the min, avg, and max temperatures for your trip\n",
    "# using the matching dates from the previous year (i.e. use \"2017-01-01\" if your trip start date was \"2018-01-01\")\n",
    "start_date = start - dt.timedelta(days=365)\n",
    "end_date = end - dt.timedelta(days=365)\n",
    "\n",
    "t = calc_temps(start_date, end_date)"
   ]
  },
  {
   "cell_type": "code",
   "execution_count": 14,
   "metadata": {},
   "outputs": [
    {
     "data": {
      "image/png": "[encoded data removed]",
      "text/plain": [
       "<matplotlib.figure.Figure at 0x107d23898>"
      ]
     },
     "metadata": {},
     "output_type": "display_data"
    }
   ],
   "source": [
    "# Plot the min, avg, and max temperature from your previous query as a bar chart.\n",
    "# Use the average temperature as the bar height.\n",
    "tmin = t[0]\n",
    "tavg = t[1]\n",
    "tmax = t[2]\n",
    "\n",
    "x = 1\n",
    "y = tavg\n",
    "\n",
    "# Use the peak-to-peak (tmax-tmin) value as the y error bar (yerr).\n",
    "yerr = (tmax - tmin)\n",
    "\n",
    "# Adjust figure size\n",
    "plt.figure(figsize=(3,7))\n",
    "\n",
    "# Create bar chart\n",
    "plt.bar(x, y, align='center', width=1.5, color='coral', alpha=0.55)\n",
    "\n",
    "# Create errorbar\n",
    "plt.errorbar(x, y, yerr, color='black')\n",
    "\n",
    "# Set axes limits and labels\n",
    "plt.xlim(0, 2 ,1)\n",
    "plt.ylim(0,100)\n",
    "plt.xticks([])\n",
    "plt.ylabel('Temp(F)')\n",
    "\n",
    "# Set title\n",
    "plt.title(\"Trip Avg Temp\")\n",
    "\n",
    "# Show plot\n",
    "plt.show()"
   ]
  },
  {
   "cell_type": "markdown",
   "metadata": {},
   "source": [
    "## Daily Normals Analysis"
   ]
  },
  {
   "cell_type": "code",
   "execution_count": 15,
   "metadata": {},
   "outputs": [
    {
     "name": "stdout",
     "output_type": "stream",
     "text": [
      "Rainfall per Weather Station\n",
      "----------------------------------------------------\n",
      "Station: KANEOHE 838.1, HI US\n",
      "Min Percipitation: 0.0\n",
      "Avg Percipitation: 0.1414035087719299\n",
      "Max Percipitation: 2.9\n",
      "----------------------------------------------------\n",
      "Station: KUALOA RANCH HEADQUARTERS 886.9, HI US\n",
      "Min Percipitation: 0.0\n",
      "Avg Percipitation: 0.1261977186311787\n",
      "Max Percipitation: 2.39\n",
      "----------------------------------------------------\n",
      "Station: MANOA LYON ARBO 785.2, HI US\n",
      "Min Percipitation: 0.0\n",
      "Avg Percipitation: 0.4498773006134971\n",
      "Max Percipitation: 6.7\n",
      "----------------------------------------------------\n",
      "Station: PEARL CITY, HI US\n",
      "Min Percipitation: 0.0\n",
      "Avg Percipitation: 0.0765\n",
      "Max Percipitation: 2.4\n",
      "----------------------------------------------------\n",
      "Station: WAIHEE 837.5, HI US\n",
      "Min Percipitation: 0.0\n",
      "Avg Percipitation: 0.1944159544159545\n",
      "Max Percipitation: 2.98\n",
      "----------------------------------------------------\n",
      "Station: WAIKIKI 717.2, HI US\n",
      "Min Percipitation: 0.0\n",
      "Avg Percipitation: 0.04507002801120444\n",
      "Max Percipitation: 2.62\n",
      "----------------------------------------------------\n",
      "Station: WAIMANALO EXPERIMENTAL FARM, HI US\n",
      "Min Percipitation: 0.0\n",
      "Avg Percipitation: 0.12150641025641026\n",
      "Max Percipitation: 6.25\n"
     ]
    }
   ],
   "source": [
    "# Calculate the rainfall per weather station using the previous year's matching dates\n",
    "calculations = [func.min(Measurement.prcp),\\\n",
    "                func.avg(Measurement.prcp),\\\n",
    "                func.max(Measurement.prcp)]\n",
    "challenge_query = session.query(Station.name, *calculations).\\\n",
    "            filter(Measurement.station == Station.station).\\\n",
    "            filter(func.strftime(\"%Y-%m-%d\", Measurement.date) > last_year).\\\n",
    "            filter(func.strftime(\"%Y-%m-%d\", Measurement.date) < current_year).\\\n",
    "            group_by(Measurement.station)\n",
    "\n",
    "print(\"Rainfall per Weather Station\")            \n",
    "for rainfall in challenge_query:\n",
    "    (r_station, r_min, r_avg, r_max) = rainfall\n",
    "    print('-'*52)\n",
    "    print(f\"Station: {r_station}\")\n",
    "    print(f\"Min Percipitation: {r_min}\")\n",
    "    print(f\"Avg Percipitation: {r_avg}\")\n",
    "    print(f\"Max Percipitation: {r_max}\")"
   ]
  },
  {
   "cell_type": "code",
   "execution_count": 16,
   "metadata": {},
   "outputs": [
    {
     "name": "stdout",
     "output_type": "stream",
     "text": [
      "Daily Normals\n",
      "----------------------------------------------------\n",
      "Station: KANEOHE 838.1, HI US\n",
      "Min Temperature: 61\n",
      "Avg Temperature: 73.26900584795321\n",
      "Max Temperature: 82\n",
      "----------------------------------------------------\n",
      "Station: KUALOA RANCH HEADQUARTERS 886.9, HI US\n",
      "Min Temperature: 63\n",
      "Avg Temperature: 77.16349809885932\n",
      "Max Temperature: 83\n",
      "----------------------------------------------------\n",
      "Station: MANOA LYON ARBO 785.2, HI US\n",
      "Min Temperature: 58\n",
      "Avg Temperature: 71.99386503067484\n",
      "Max Temperature: 82\n",
      "----------------------------------------------------\n",
      "Station: PEARL CITY, HI US\n",
      "Min Temperature: 62\n",
      "Avg Temperature: 73.88333333333334\n",
      "Max Temperature: 81\n",
      "----------------------------------------------------\n",
      "Station: WAIHEE 837.5, HI US\n",
      "Min Temperature: 59\n",
      "Avg Temperature: 73.0968660968661\n",
      "Max Temperature: 83\n",
      "----------------------------------------------------\n",
      "Station: WAIKIKI 717.2, HI US\n",
      "Min Temperature: 60\n",
      "Avg Temperature: 75.16526610644257\n",
      "Max Temperature: 87\n",
      "----------------------------------------------------\n",
      "Station: WAIMANALO EXPERIMENTAL FARM, HI US\n",
      "Min Temperature: 60\n",
      "Avg Temperature: 76.98397435897436\n",
      "Max Temperature: 84\n"
     ]
    }
   ],
   "source": [
    "# Calculate the daily normals. Normals are the averages for min, avg, and max temperatures.\n",
    "calculations2 = [func.min(Measurement.tobs),\\\n",
    "                func.avg(Measurement.tobs),\\\n",
    "                func.max(Measurement.tobs)]\n",
    "challenge_query2 = session.query(Station.name, *calculations2).\\\n",
    "            filter(Measurement.station == Station.station).\\\n",
    "            filter(func.strftime(\"%Y-%m-%d\", Measurement.date) > last_year).\\\n",
    "            filter(func.strftime(\"%Y-%m-%d\", Measurement.date) < current_year).\\\n",
    "            group_by(Measurement.station)\n",
    "print(\"Daily Normals\")      \n",
    "for daily_normals in challenge_query2:\n",
    "    (t_station, t_min, t_avg, t_max) = daily_normals\n",
    "    print('-'*52)\n",
    "    print(f\"Station: {t_station}\")\n",
    "    print(f\"Min Temperature: {t_min}\")\n",
    "    print(f\"Avg Temperature: {t_avg}\")\n",
    "    print(f\"Max Temperature: {t_max}\")"
   ]
  },
  {
   "cell_type": "code",
   "execution_count": 17,
   "metadata": {
    "collapsed": true
   },
   "outputs": [],
   "source": [
    "# Create a function called `daily_normals` that will calculate the daily normals for a specific date. \n",
    "# This date string will be in the format `%m-%d`. \n",
    "# Be sure to use all historic tobs that match that date string\n",
    "def daily_normals(date):\n",
    "    daily_calc = [func.min(Measurement.tobs),\\\n",
    "                    func.avg(Measurement.tobs),\\\n",
    "                    func.max(Measurement.tobs)]\n",
    "    daily_query = session.query(*daily_calc).\\\n",
    "                filter(func.strftime(\"%m-%d\", Measurement.date) == date).all()\n",
    "    x = list(np.ravel(daily_query))\n",
    "    return(x)"
   ]
  },
  {
   "cell_type": "code",
   "execution_count": 18,
   "metadata": {
    "collapsed": true
   },
   "outputs": [],
   "source": [
    "# Create a list of dates for your trip in the format `%m-%d`.\n",
    "trip_dates = []\n",
    "delta = end_date - start_date\n",
    "for i in range(delta.days+1):\n",
    "    trip_dates.append((start_date + dt.timedelta(days=i)).strftime(\"%m-%d\"))\n",
    "# Use the `daily_normals` function to calculate the normals for each date string \n",
    "# Append the results to a list\n",
    "trip_min = []\n",
    "trip_avg = []\n",
    "trip_max = []\n",
    "for date in trip_dates:\n",
    "    trip_min.append(daily_normals(date)[0])\n",
    "    trip_avg.append(daily_normals(date)[1])\n",
    "    trip_max.append(daily_normals(date)[2])"
   ]
  },
  {
   "cell_type": "code",
   "execution_count": 19,
   "metadata": {},
   "outputs": [
    {
     "data": {
      "text/html": [
       "<div>\n",
       "<style>\n",
       "    .dataframe thead tr:only-child th {\n",
       "        text-align: right;\n",
       "    }\n",
       "\n",
       "    .dataframe thead th {\n",
       "        text-align: left;\n",
       "    }\n",
       "\n",
       "    .dataframe tbody tr th {\n",
       "        vertical-align: top;\n",
       "    }\n",
       "</style>\n",
       "<table border=\"1\" class=\"dataframe\">\n",
       "  <thead>\n",
       "    <tr style=\"text-align: right;\">\n",
       "      <th></th>\n",
       "      <th>Avg Temp</th>\n",
       "      <th>Max Temp</th>\n",
       "      <th>Min Temp</th>\n",
       "    </tr>\n",
       "    <tr>\n",
       "      <th>Date</th>\n",
       "      <th></th>\n",
       "      <th></th>\n",
       "      <th></th>\n",
       "    </tr>\n",
       "  </thead>\n",
       "  <tbody>\n",
       "    <tr>\n",
       "      <th>04-24</th>\n",
       "      <td>73.038462</td>\n",
       "      <td>79.0</td>\n",
       "      <td>67.0</td>\n",
       "    </tr>\n",
       "    <tr>\n",
       "      <th>04-25</th>\n",
       "      <td>73.836364</td>\n",
       "      <td>83.0</td>\n",
       "      <td>66.0</td>\n",
       "    </tr>\n",
       "    <tr>\n",
       "      <th>04-26</th>\n",
       "      <td>74.018519</td>\n",
       "      <td>81.0</td>\n",
       "      <td>66.0</td>\n",
       "    </tr>\n",
       "    <tr>\n",
       "      <th>04-27</th>\n",
       "      <td>72.784314</td>\n",
       "      <td>81.0</td>\n",
       "      <td>65.0</td>\n",
       "    </tr>\n",
       "    <tr>\n",
       "      <th>04-28</th>\n",
       "      <td>73.244898</td>\n",
       "      <td>79.0</td>\n",
       "      <td>63.0</td>\n",
       "    </tr>\n",
       "    <tr>\n",
       "      <th>04-29</th>\n",
       "      <td>72.920000</td>\n",
       "      <td>78.0</td>\n",
       "      <td>66.0</td>\n",
       "    </tr>\n",
       "    <tr>\n",
       "      <th>04-30</th>\n",
       "      <td>71.660000</td>\n",
       "      <td>78.0</td>\n",
       "      <td>58.0</td>\n",
       "    </tr>\n",
       "    <tr>\n",
       "      <th>05-01</th>\n",
       "      <td>72.759259</td>\n",
       "      <td>79.0</td>\n",
       "      <td>65.0</td>\n",
       "    </tr>\n",
       "  </tbody>\n",
       "</table>\n",
       "</div>"
      ],
      "text/plain": [
       "        Avg Temp  Max Temp  Min Temp\n",
       "Date                                \n",
       "04-24  73.038462      79.0      67.0\n",
       "04-25  73.836364      83.0      66.0\n",
       "04-26  74.018519      81.0      66.0\n",
       "04-27  72.784314      81.0      65.0\n",
       "04-28  73.244898      79.0      63.0\n",
       "04-29  72.920000      78.0      66.0\n",
       "04-30  71.660000      78.0      58.0\n",
       "05-01  72.759259      79.0      65.0"
      ]
     },
     "execution_count": 19,
     "metadata": {},
     "output_type": "execute_result"
    }
   ],
   "source": [
    "# Load the list of daily normals into a Pandas DataFrame and set the index equal to the date\n",
    "daily_df = pd.DataFrame({'Date': trip_dates,\n",
    "                         'Min Temp': trip_min,\n",
    "                         'Avg Temp': trip_avg,\n",
    "                         'Max Temp': trip_max})\n",
    "daily_df = daily_df.set_index('Date')\n",
    "daily_df"
   ]
  },
  {
   "cell_type": "code",
   "execution_count": 20,
   "metadata": {},
   "outputs": [
    {
     "data": {
      "image/png": "[encoded data removed]",
      "text/plain": [
       "<matplotlib.figure.Figure at 0x107cc3390>"
      ]
     },
     "metadata": {},
     "output_type": "display_data"
    }
   ],
   "source": [
    "daily_df.plot(kind='area', stacked=False,alpha=0.4, colormap='magma', title='Daily Normals for Trip')\n",
    "plt.xticks(rotation=45)\n",
    "legend = plt.legend(frameon = 1)\n",
    "frame = legend.get_frame()\n",
    "frame.set_facecolor('white')\n",
    "plt.show()"
   ]
  }
 ],
 "metadata": {
  "kernelspec": {
   "display_name": "Python [conda env:PythonData]",
   "language": "python",
   "name": "conda-env-PythonData-py"
  },
  "language_info": {
   "codemirror_mode": {
    "name": "ipython",
    "version": 3
   },
   "file_extension": ".py",
   "mimetype": "text/x-python",
   "name": "python",
   "nbconvert_exporter": "python",
   "pygments_lexer": "ipython3",
   "version": "3.6.3"
  }
 },
 "nbformat": 4,
 "nbformat_minor": 2
}
